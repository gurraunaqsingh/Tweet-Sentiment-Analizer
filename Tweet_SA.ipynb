{
 "cells": [
  {
   "cell_type": "code",
   "execution_count": 18,
   "metadata": {
    "collapsed": true
   },
   "outputs": [],
   "source": [
    "import tweepy\n",
    "from textblob import TextBlob\n",
    "\n",
    "import pandas as pd"
   ]
  },
  {
   "cell_type": "code",
   "execution_count": 19,
   "metadata": {
    "collapsed": false
   },
   "outputs": [],
   "source": [
    "consumer_key = \"\"\n",
    "consumer_secret = \"\"\n",
    "\n",
    "access_token = \"\"\n",
    "access_token_secret = \"\""
   ]
  },
  {
   "cell_type": "code",
   "execution_count": 20,
   "metadata": {
    "collapsed": false
   },
   "outputs": [],
   "source": [
    "auth = tweepy.OAuthHandler(consumer_key, consumer_secret)\n",
    "auth.set_access_token(access_token, access_token_secret)"
   ]
  },
  {
   "cell_type": "code",
   "execution_count": 21,
   "metadata": {
    "collapsed": false
   },
   "outputs": [],
   "source": [
    "api = tweepy.API(auth)"
   ]
  },
  {
   "cell_type": "code",
   "execution_count": 81,
   "metadata": {
    "collapsed": true
   },
   "outputs": [],
   "source": [
    "tweet_data = {'Tweet': [],\n",
    "        'Polarity': [],\n",
    "        'Subjectivty': []}"
   ]
  },
  {
   "cell_type": "code",
   "execution_count": 82,
   "metadata": {
    "collapsed": true
   },
   "outputs": [],
   "source": [
    "public_tweets = api.search('Hillary')\n",
    "\n",
    "for tweet in public_tweets:\n",
    "    analysis = TextBlob(tweet.text)\n",
    "    \n",
    "    tweet_data[\"Tweet\"].append(tweet.text)\n",
    "    tweet_data[\"Polarity\"].append(str(analysis.sentiment.polarity))\n",
    "    tweet_data[\"Subjectivty\"].append(str(analysis.sentiment.subjectivity))"
   ]
  },
  {
   "cell_type": "code",
   "execution_count": 93,
   "metadata": {
    "collapsed": false
   },
   "outputs": [
    {
     "data": {
      "text/html": [
       "<div>\n",
       "<table border=\"1\" class=\"dataframe\">\n",
       "  <thead>\n",
       "    <tr style=\"text-align: right;\">\n",
       "      <th></th>\n",
       "      <th>Tweet</th>\n",
       "      <th>Polarity</th>\n",
       "      <th>Subjectivty</th>\n",
       "    </tr>\n",
       "  </thead>\n",
       "  <tbody>\n",
       "    <tr>\n",
       "      <th>0</th>\n",
       "      <td>CLINTON ACCUSERS SPEAK OUT !! ★ JUANITA BROADD...</td>\n",
       "      <td>0.2</td>\n",
       "      <td>0.30000000000000004</td>\n",
       "    </tr>\n",
       "    <tr>\n",
       "      <th>1</th>\n",
       "      <td>RT @Paul0451: Who else thinks that disgruntled...</td>\n",
       "      <td>0.0</td>\n",
       "      <td>0.0</td>\n",
       "    </tr>\n",
       "    <tr>\n",
       "      <th>2</th>\n",
       "      <td>RT @RitzyBacon2: BLACK VOTERS DON’T LIKE PUSSI...</td>\n",
       "      <td>-0.16666666666666666</td>\n",
       "      <td>0.43333333333333335</td>\n",
       "    </tr>\n",
       "    <tr>\n",
       "      <th>3</th>\n",
       "      <td>RT @Lagartija_Nix: VIDEO : Black Trump Support...</td>\n",
       "      <td>-0.16666666666666666</td>\n",
       "      <td>0.43333333333333335</td>\n",
       "    </tr>\n",
       "    <tr>\n",
       "      <th>4</th>\n",
       "      <td>RT @TallahForTrump: Just @YoungDems4Trump in m...</td>\n",
       "      <td>0.0</td>\n",
       "      <td>0.1</td>\n",
       "    </tr>\n",
       "    <tr>\n",
       "      <th>5</th>\n",
       "      <td>RT @DonaldJTrumpJr: Hillary is the most corrup...</td>\n",
       "      <td>0.0</td>\n",
       "      <td>0.5</td>\n",
       "    </tr>\n",
       "    <tr>\n",
       "      <th>6</th>\n",
       "      <td>RT @DorAnnCecil: FBI Agents Sick About Decisio...</td>\n",
       "      <td>-0.35714285714285715</td>\n",
       "      <td>0.8035714285714286</td>\n",
       "    </tr>\n",
       "    <tr>\n",
       "      <th>7</th>\n",
       "      <td>RT @realkingrobbo: Trump : ISIS will take over...</td>\n",
       "      <td>0.0</td>\n",
       "      <td>0.0</td>\n",
       "    </tr>\n",
       "    <tr>\n",
       "      <th>8</th>\n",
       "      <td>FOCUS\\n1. Turn off TV; dismantle cable TV conn...</td>\n",
       "      <td>-0.15000000000000002</td>\n",
       "      <td>0.5</td>\n",
       "    </tr>\n",
       "    <tr>\n",
       "      <th>9</th>\n",
       "      <td>RT @col_nj: If #Hillary Gets Elected There Wil...</td>\n",
       "      <td>-0.1</td>\n",
       "      <td>0.25</td>\n",
       "    </tr>\n",
       "    <tr>\n",
       "      <th>10</th>\n",
       "      <td>Standard #Hillary tactics being used now again...</td>\n",
       "      <td>0.0</td>\n",
       "      <td>0.0</td>\n",
       "    </tr>\n",
       "    <tr>\n",
       "      <th>11</th>\n",
       "      <td>RT @BigStick2013: Wikileaks: Hillary Camp Caug...</td>\n",
       "      <td>-0.4</td>\n",
       "      <td>0.55</td>\n",
       "    </tr>\n",
       "    <tr>\n",
       "      <th>12</th>\n",
       "      <td>RT @0HOUR1__: Call this number infiltrate and ...</td>\n",
       "      <td>-0.2</td>\n",
       "      <td>0.8</td>\n",
       "    </tr>\n",
       "    <tr>\n",
       "      <th>13</th>\n",
       "      <td>RT @StopStopHillary: I Don't understands YOU P...</td>\n",
       "      <td>-0.10000000000000002</td>\n",
       "      <td>0.16666666666666666</td>\n",
       "    </tr>\n",
       "  </tbody>\n",
       "</table>\n",
       "</div>"
      ],
      "text/plain": [
       "                                                Tweet              Polarity  \\\n",
       "0   CLINTON ACCUSERS SPEAK OUT !! ★ JUANITA BROADD...                   0.2   \n",
       "1   RT @Paul0451: Who else thinks that disgruntled...                   0.0   \n",
       "2   RT @RitzyBacon2: BLACK VOTERS DON’T LIKE PUSSI...  -0.16666666666666666   \n",
       "3   RT @Lagartija_Nix: VIDEO : Black Trump Support...  -0.16666666666666666   \n",
       "4   RT @TallahForTrump: Just @YoungDems4Trump in m...                   0.0   \n",
       "5   RT @DonaldJTrumpJr: Hillary is the most corrup...                   0.0   \n",
       "6   RT @DorAnnCecil: FBI Agents Sick About Decisio...  -0.35714285714285715   \n",
       "7   RT @realkingrobbo: Trump : ISIS will take over...                   0.0   \n",
       "8   FOCUS\\n1. Turn off TV; dismantle cable TV conn...  -0.15000000000000002   \n",
       "9   RT @col_nj: If #Hillary Gets Elected There Wil...                  -0.1   \n",
       "10  Standard #Hillary tactics being used now again...                   0.0   \n",
       "11  RT @BigStick2013: Wikileaks: Hillary Camp Caug...                  -0.4   \n",
       "12  RT @0HOUR1__: Call this number infiltrate and ...                  -0.2   \n",
       "13  RT @StopStopHillary: I Don't understands YOU P...  -0.10000000000000002   \n",
       "\n",
       "            Subjectivty  \n",
       "0   0.30000000000000004  \n",
       "1                   0.0  \n",
       "2   0.43333333333333335  \n",
       "3   0.43333333333333335  \n",
       "4                   0.1  \n",
       "5                   0.5  \n",
       "6    0.8035714285714286  \n",
       "7                   0.0  \n",
       "8                   0.5  \n",
       "9                  0.25  \n",
       "10                  0.0  \n",
       "11                 0.55  \n",
       "12                  0.8  \n",
       "13  0.16666666666666666  "
      ]
     },
     "execution_count": 93,
     "metadata": {},
     "output_type": "execute_result"
    }
   ],
   "source": [
    "df = pd.DataFrame(tweet_data, columns = ['Tweet', 'Polarity', 'Subjectivty'])\n",
    "df\n"
   ]
  },
  {
   "cell_type": "code",
   "execution_count": 98,
   "metadata": {
    "collapsed": false
   },
   "outputs": [
    {
     "name": "stdout",
     "output_type": "stream",
     "text": [
      "CSV file saved in C:/Users/Raunaq/Desktop/Tweets_SentimentAnalysis.csv\n"
     ]
    }
   ],
   "source": [
    "path = 'C:/Users/Raunaq/Desktop/Tweets_SentimentAnalysis.csv'\n",
    "df.to_csv(path)\n",
    "\n",
    "print(\"CSV file saved in \" + path)\n"
   ]
  }
 ],
 "metadata": {
  "kernelspec": {
   "display_name": "Python [Root]",
   "language": "python",
   "name": "Python [Root]"
  },
  "language_info": {
   "codemirror_mode": {
    "name": "ipython",
    "version": 3
   },
   "file_extension": ".py",
   "mimetype": "text/x-python",
   "name": "python",
   "nbconvert_exporter": "python",
   "pygments_lexer": "ipython3",
   "version": "3.5.2"
  }
 },
 "nbformat": 4,
 "nbformat_minor": 0
}
